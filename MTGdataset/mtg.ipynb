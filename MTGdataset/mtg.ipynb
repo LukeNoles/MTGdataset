{
 "cells": [
  {
   "cell_type": "code",
   "execution_count": 2,
   "metadata": {},
   "outputs": [],
   "source": [
    "import pandas as pd\n",
    "import matplotlib.pyplot as plt\n",
    "import numpy as np\n",
    "import matplotlib.ticker as plticker\n",
    "import seaborn as sns"
   ]
  },
  {
   "cell_type": "code",
   "execution_count": 3,
   "metadata": {},
   "outputs": [],
   "source": [
    "df = pd.read_csv('pricetest.csv')"
   ]
  },
  {
   "cell_type": "markdown",
   "metadata": {
    "slideshow": {
     "slide_type": "slide"
    }
   },
   "source": [
    "CLEANUP"
   ]
  },
  {
   "cell_type": "code",
   "execution_count": 4,
   "metadata": {},
   "outputs": [
    {
     "data": {
      "text/plain": [
       "Unnamed: 0        int64\n",
       "cardName         object\n",
       "cardCmc          object\n",
       "cardType         object\n",
       "creatureType     object\n",
       "powTough         object\n",
       "set              object\n",
       "setNum           object\n",
       "rarity           object\n",
       "language         object\n",
       "cardImage        object\n",
       "price           float64\n",
       "dtype: object"
      ]
     },
     "execution_count": 4,
     "metadata": {},
     "output_type": "execute_result"
    }
   ],
   "source": [
    "df.dtypes"
   ]
  },
  {
   "cell_type": "code",
   "execution_count": 5,
   "metadata": {},
   "outputs": [],
   "source": [
    "df.cardCmc = df.cardCmc.str.replace(\"{\", \"\", regex=False)\n",
    "df.cardCmc = df.cardCmc.str.replace(\"}\", \"\", regex=False)\n",
    "df.cardCmc = df.cardCmc.str.replace(\"[\", \"\", regex=False)\n",
    "df.cardCmc = df.cardCmc.str.replace(\"]\", \"\", regex=False)\n",
    "df.cardCmc = df.cardCmc.str.replace(\"'\", \"\", regex=False)\n",
    "df.cardCmc = df.cardCmc.str.replace(\" \", \"\", regex=False)\n"
   ]
  },
  {
   "cell_type": "code",
   "execution_count": 6,
   "metadata": {},
   "outputs": [],
   "source": [
    "df[\"colorlessValue\"] = df[\"cardCmc\"].str.extract('^(\\d*)')\n",
    "df[\"pipValue\"] = df[\"cardCmc\"].str.count('(\\D)')\n",
    "df['pipValue'] = df['pipValue'].fillna(0)\n",
    "df['colorlessValue'] = df['colorlessValue'].fillna(0)\n",
    "df.colorlessValue = df.colorlessValue.replace(\"\", 0)\n",
    "df.pipValue = df.pipValue.replace(\"\", 0)\n",
    "df[\"colorlessValue\"] = df[\"colorlessValue\"].astype(int)\n",
    "df[\"pipValue\"] = df[\"pipValue\"].astype(int)\n",
    "df[\"manaValue\"] = df[\"pipValue\"] + df[\"colorlessValue\"]\n",
    "\n"
   ]
  },
  {
   "cell_type": "code",
   "execution_count": 7,
   "metadata": {},
   "outputs": [],
   "source": [
    "pipColors1 = df[\"cardCmc\"].str.replace('X', '')\n",
    "pipColors = pipColors1.str.extract('(\\D)')\n",
    "df[\"color\"] = pipColors\n",
    "df.color = df.color.fillna(\"C\")"
   ]
  },
  {
   "cell_type": "code",
   "execution_count": 8,
   "metadata": {},
   "outputs": [],
   "source": [
    "df.price = df.price.fillna(0)"
   ]
  },
  {
   "cell_type": "code",
   "execution_count": 9,
   "metadata": {},
   "outputs": [],
   "source": [
    "\n",
    "df.setNum = df[\"setNum\"].str.replace(\"#\", \"\")"
   ]
  },
  {
   "cell_type": "code",
   "execution_count": 10,
   "metadata": {},
   "outputs": [
    {
     "data": {
      "text/html": [
       "<div>\n",
       "<style scoped>\n",
       "    .dataframe tbody tr th:only-of-type {\n",
       "        vertical-align: middle;\n",
       "    }\n",
       "\n",
       "    .dataframe tbody tr th {\n",
       "        vertical-align: top;\n",
       "    }\n",
       "\n",
       "    .dataframe thead th {\n",
       "        text-align: right;\n",
       "    }\n",
       "</style>\n",
       "<table border=\"1\" class=\"dataframe\">\n",
       "  <thead>\n",
       "    <tr style=\"text-align: right;\">\n",
       "      <th></th>\n",
       "      <th>Unnamed: 0</th>\n",
       "      <th>cardName</th>\n",
       "      <th>cardCmc</th>\n",
       "      <th>cardType</th>\n",
       "      <th>creatureType</th>\n",
       "      <th>powTough</th>\n",
       "      <th>set</th>\n",
       "      <th>setNum</th>\n",
       "      <th>rarity</th>\n",
       "      <th>language</th>\n",
       "      <th>cardImage</th>\n",
       "      <th>price</th>\n",
       "      <th>colorlessValue</th>\n",
       "      <th>pipValue</th>\n",
       "      <th>manaValue</th>\n",
       "      <th>color</th>\n",
       "    </tr>\n",
       "  </thead>\n",
       "  <tbody>\n",
       "    <tr>\n",
       "      <th>0</th>\n",
       "      <td>0</td>\n",
       "      <td>Angel of Serenity</td>\n",
       "      <td>4WWW</td>\n",
       "      <td>Creature</td>\n",
       "      <td>Angel</td>\n",
       "      <td>5/6</td>\n",
       "      <td>Return to Ravnica (RTR)</td>\n",
       "      <td>1</td>\n",
       "      <td>Mythic Rare</td>\n",
       "      <td>English</td>\n",
       "      <td>https://c1.scryfall.com/file/scryfall-cards/la...</td>\n",
       "      <td>1.81</td>\n",
       "      <td>4</td>\n",
       "      <td>3</td>\n",
       "      <td>7</td>\n",
       "      <td>W</td>\n",
       "    </tr>\n",
       "    <tr>\n",
       "      <th>1</th>\n",
       "      <td>1</td>\n",
       "      <td>Armory Guard</td>\n",
       "      <td>3W</td>\n",
       "      <td>Creature</td>\n",
       "      <td>Giant Soldier</td>\n",
       "      <td>2/5</td>\n",
       "      <td>Return to Ravnica (RTR)</td>\n",
       "      <td>2</td>\n",
       "      <td>Common</td>\n",
       "      <td>English</td>\n",
       "      <td>https://c1.scryfall.com/file/scryfall-cards/la...</td>\n",
       "      <td>0.02</td>\n",
       "      <td>3</td>\n",
       "      <td>1</td>\n",
       "      <td>4</td>\n",
       "      <td>W</td>\n",
       "    </tr>\n",
       "    <tr>\n",
       "      <th>2</th>\n",
       "      <td>2</td>\n",
       "      <td>Arrest</td>\n",
       "      <td>2W</td>\n",
       "      <td>Enchantment</td>\n",
       "      <td>NaN</td>\n",
       "      <td>NaN</td>\n",
       "      <td>Return to Ravnica (RTR)</td>\n",
       "      <td>3</td>\n",
       "      <td>Uncommon</td>\n",
       "      <td>English</td>\n",
       "      <td>https://c1.scryfall.com/file/scryfall-cards/la...</td>\n",
       "      <td>0.09</td>\n",
       "      <td>2</td>\n",
       "      <td>1</td>\n",
       "      <td>3</td>\n",
       "      <td>W</td>\n",
       "    </tr>\n",
       "    <tr>\n",
       "      <th>3</th>\n",
       "      <td>3</td>\n",
       "      <td>Avenging Arrow</td>\n",
       "      <td>2W</td>\n",
       "      <td>Instant</td>\n",
       "      <td>NaN</td>\n",
       "      <td>NaN</td>\n",
       "      <td>Return to Ravnica (RTR)</td>\n",
       "      <td>4</td>\n",
       "      <td>Common</td>\n",
       "      <td>English</td>\n",
       "      <td>https://c1.scryfall.com/file/scryfall-cards/la...</td>\n",
       "      <td>0.06</td>\n",
       "      <td>2</td>\n",
       "      <td>1</td>\n",
       "      <td>3</td>\n",
       "      <td>W</td>\n",
       "    </tr>\n",
       "    <tr>\n",
       "      <th>4</th>\n",
       "      <td>4</td>\n",
       "      <td>Azorius Arrester</td>\n",
       "      <td>1W</td>\n",
       "      <td>Creature</td>\n",
       "      <td>Human Soldier</td>\n",
       "      <td>2/1</td>\n",
       "      <td>Return to Ravnica (RTR)</td>\n",
       "      <td>5</td>\n",
       "      <td>Common</td>\n",
       "      <td>English</td>\n",
       "      <td>https://c1.scryfall.com/file/scryfall-cards/la...</td>\n",
       "      <td>0.10</td>\n",
       "      <td>1</td>\n",
       "      <td>1</td>\n",
       "      <td>2</td>\n",
       "      <td>W</td>\n",
       "    </tr>\n",
       "    <tr>\n",
       "      <th>...</th>\n",
       "      <td>...</td>\n",
       "      <td>...</td>\n",
       "      <td>...</td>\n",
       "      <td>...</td>\n",
       "      <td>...</td>\n",
       "      <td>...</td>\n",
       "      <td>...</td>\n",
       "      <td>...</td>\n",
       "      <td>...</td>\n",
       "      <td>...</td>\n",
       "      <td>...</td>\n",
       "      <td>...</td>\n",
       "      <td>...</td>\n",
       "      <td>...</td>\n",
       "      <td>...</td>\n",
       "      <td>...</td>\n",
       "    </tr>\n",
       "    <tr>\n",
       "      <th>6074</th>\n",
       "      <td>6074</td>\n",
       "      <td>Scorch Rider</td>\n",
       "      <td>3R</td>\n",
       "      <td>Creature</td>\n",
       "      <td>Human Warrior</td>\n",
       "      <td>4/3</td>\n",
       "      <td>Zendikar Rising (ZNR)</td>\n",
       "      <td>158</td>\n",
       "      <td>Common</td>\n",
       "      <td>English</td>\n",
       "      <td>https://c1.scryfall.com/file/scryfall-cards/la...</td>\n",
       "      <td>0.01</td>\n",
       "      <td>3</td>\n",
       "      <td>1</td>\n",
       "      <td>4</td>\n",
       "      <td>R</td>\n",
       "    </tr>\n",
       "    <tr>\n",
       "      <th>6075</th>\n",
       "      <td>6075</td>\n",
       "      <td>Shatterskull Charger</td>\n",
       "      <td>1RR</td>\n",
       "      <td>Creature</td>\n",
       "      <td>Giant Warrior</td>\n",
       "      <td>4/3</td>\n",
       "      <td>Zendikar Rising (ZNR)</td>\n",
       "      <td>159</td>\n",
       "      <td>Rare</td>\n",
       "      <td>English</td>\n",
       "      <td>https://c1.scryfall.com/file/scryfall-cards/la...</td>\n",
       "      <td>0.13</td>\n",
       "      <td>1</td>\n",
       "      <td>2</td>\n",
       "      <td>3</td>\n",
       "      <td>R</td>\n",
       "    </tr>\n",
       "    <tr>\n",
       "      <th>6076</th>\n",
       "      <td>6076</td>\n",
       "      <td>Shatterskull Minotaur</td>\n",
       "      <td>4RR</td>\n",
       "      <td>Creature</td>\n",
       "      <td>Minotaur Warrior</td>\n",
       "      <td>5/4</td>\n",
       "      <td>Zendikar Rising (ZNR)</td>\n",
       "      <td>160</td>\n",
       "      <td>Uncommon</td>\n",
       "      <td>English</td>\n",
       "      <td>https://c1.scryfall.com/file/scryfall-cards/la...</td>\n",
       "      <td>0.01</td>\n",
       "      <td>4</td>\n",
       "      <td>2</td>\n",
       "      <td>6</td>\n",
       "      <td>R</td>\n",
       "    </tr>\n",
       "    <tr>\n",
       "      <th>6077</th>\n",
       "      <td>6077</td>\n",
       "      <td>['Shatterskull Smashing', 'Shatterskull, the H...</td>\n",
       "      <td>XRR</td>\n",
       "      <td>Sorcery</td>\n",
       "      <td>NaN</td>\n",
       "      <td>NaN</td>\n",
       "      <td>Zendikar Rising (ZNR)</td>\n",
       "      <td>161</td>\n",
       "      <td>Mythic Rare</td>\n",
       "      <td>English</td>\n",
       "      <td>['https://c1.scryfall.com/file/scryfall-cards/...</td>\n",
       "      <td>3.91</td>\n",
       "      <td>0</td>\n",
       "      <td>3</td>\n",
       "      <td>3</td>\n",
       "      <td>R</td>\n",
       "    </tr>\n",
       "    <tr>\n",
       "      <th>6078</th>\n",
       "      <td>6078</td>\n",
       "      <td>Sizzling Barrage</td>\n",
       "      <td>1R</td>\n",
       "      <td>Instant</td>\n",
       "      <td>NaN</td>\n",
       "      <td>NaN</td>\n",
       "      <td>Zendikar Rising (ZNR)</td>\n",
       "      <td>162</td>\n",
       "      <td>Common</td>\n",
       "      <td>English</td>\n",
       "      <td>https://c1.scryfall.com/file/scryfall-cards/la...</td>\n",
       "      <td>0.01</td>\n",
       "      <td>1</td>\n",
       "      <td>1</td>\n",
       "      <td>2</td>\n",
       "      <td>R</td>\n",
       "    </tr>\n",
       "  </tbody>\n",
       "</table>\n",
       "<p>6079 rows × 16 columns</p>\n",
       "</div>"
      ],
      "text/plain": [
       "      Unnamed: 0                                           cardName cardCmc  \\\n",
       "0              0                                  Angel of Serenity    4WWW   \n",
       "1              1                                       Armory Guard      3W   \n",
       "2              2                                             Arrest      2W   \n",
       "3              3                                     Avenging Arrow      2W   \n",
       "4              4                                   Azorius Arrester      1W   \n",
       "...          ...                                                ...     ...   \n",
       "6074        6074                                       Scorch Rider      3R   \n",
       "6075        6075                               Shatterskull Charger     1RR   \n",
       "6076        6076                              Shatterskull Minotaur     4RR   \n",
       "6077        6077  ['Shatterskull Smashing', 'Shatterskull, the H...     XRR   \n",
       "6078        6078                                   Sizzling Barrage      1R   \n",
       "\n",
       "          cardType       creatureType powTough                      set  \\\n",
       "0        Creature               Angel      5/6  Return to Ravnica (RTR)   \n",
       "1        Creature       Giant Soldier      2/5  Return to Ravnica (RTR)   \n",
       "2     Enchantment                 NaN      NaN  Return to Ravnica (RTR)   \n",
       "3          Instant                NaN      NaN  Return to Ravnica (RTR)   \n",
       "4        Creature       Human Soldier      2/1  Return to Ravnica (RTR)   \n",
       "...            ...                ...      ...                      ...   \n",
       "6074     Creature       Human Warrior      4/3    Zendikar Rising (ZNR)   \n",
       "6075     Creature       Giant Warrior      4/3    Zendikar Rising (ZNR)   \n",
       "6076     Creature    Minotaur Warrior      5/4    Zendikar Rising (ZNR)   \n",
       "6077       Sorcery                NaN      NaN    Zendikar Rising (ZNR)   \n",
       "6078       Instant                NaN      NaN    Zendikar Rising (ZNR)   \n",
       "\n",
       "     setNum         rarity  language  \\\n",
       "0        1    Mythic Rare    English   \n",
       "1        2         Common    English   \n",
       "2        3       Uncommon    English   \n",
       "3        4         Common    English   \n",
       "4        5         Common    English   \n",
       "...     ...            ...       ...   \n",
       "6074   158         Common    English   \n",
       "6075   159           Rare    English   \n",
       "6076   160       Uncommon    English   \n",
       "6077   161    Mythic Rare    English   \n",
       "6078   162         Common    English   \n",
       "\n",
       "                                              cardImage  price  \\\n",
       "0     https://c1.scryfall.com/file/scryfall-cards/la...   1.81   \n",
       "1     https://c1.scryfall.com/file/scryfall-cards/la...   0.02   \n",
       "2     https://c1.scryfall.com/file/scryfall-cards/la...   0.09   \n",
       "3     https://c1.scryfall.com/file/scryfall-cards/la...   0.06   \n",
       "4     https://c1.scryfall.com/file/scryfall-cards/la...   0.10   \n",
       "...                                                 ...    ...   \n",
       "6074  https://c1.scryfall.com/file/scryfall-cards/la...   0.01   \n",
       "6075  https://c1.scryfall.com/file/scryfall-cards/la...   0.13   \n",
       "6076  https://c1.scryfall.com/file/scryfall-cards/la...   0.01   \n",
       "6077  ['https://c1.scryfall.com/file/scryfall-cards/...   3.91   \n",
       "6078  https://c1.scryfall.com/file/scryfall-cards/la...   0.01   \n",
       "\n",
       "      colorlessValue  pipValue  manaValue color  \n",
       "0                  4         3          7     W  \n",
       "1                  3         1          4     W  \n",
       "2                  2         1          3     W  \n",
       "3                  2         1          3     W  \n",
       "4                  1         1          2     W  \n",
       "...              ...       ...        ...   ...  \n",
       "6074               3         1          4     R  \n",
       "6075               1         2          3     R  \n",
       "6076               4         2          6     R  \n",
       "6077               0         3          3     R  \n",
       "6078               1         1          2     R  \n",
       "\n",
       "[6079 rows x 16 columns]"
      ]
     },
     "execution_count": 10,
     "metadata": {},
     "output_type": "execute_result"
    }
   ],
   "source": [
    "df.head(6079)"
   ]
  },
  {
   "cell_type": "markdown",
   "metadata": {},
   "source": [
    "QUESTIONS AND VISUALIZATIONS"
   ]
  },
  {
   "cell_type": "markdown",
   "metadata": {},
   "source": [
    "Do red or green cards sell for more on average?"
   ]
  },
  {
   "cell_type": "code",
   "execution_count": 11,
   "metadata": {},
   "outputs": [
    {
     "name": "stdout",
     "output_type": "stream",
     "text": [
      "0.8410579576816907\n",
      "0.5973056057866157\n"
     ]
    }
   ],
   "source": [
    "green = df[df.color == \"G\"]\n",
    "red = df[df.color == \"R\"]\n",
    "\n",
    "print(green.price.mean())\n",
    "print(red.price.mean())"
   ]
  },
  {
   "cell_type": "markdown",
   "metadata": {},
   "source": [
    "Plot each color and the average prices of them."
   ]
  },
  {
   "cell_type": "code",
   "execution_count": 12,
   "metadata": {},
   "outputs": [
    {
     "data": {
      "text/plain": [
       "<AxesSubplot:xlabel='color', ylabel='price'>"
      ]
     },
     "execution_count": 12,
     "metadata": {},
     "output_type": "execute_result"
    },
    {
     "data": {
      "image/png": "[encoded data removed]",
      "text/plain": [
       "<Figure size 432x288 with 1 Axes>"
      ]
     },
     "metadata": {
      "needs_background": "light"
     },
     "output_type": "display_data"
    }
   ],
   "source": [
    "sns.barplot(x=df.color, y = df.price)"
   ]
  },
  {
   "cell_type": "markdown",
   "metadata": {},
   "source": [
    "Do cards with mana value 5 or greater sell for more than cards with less than mana value 5 on average?"
   ]
  },
  {
   "cell_type": "code",
   "execution_count": 13,
   "metadata": {},
   "outputs": [
    {
     "name": "stdout",
     "output_type": "stream",
     "text": [
      "1.3313501805054084 is the average price of cards with mana value 5 or greater\n",
      "0.6680925419757987 is the average price of cards with mana value less than 5\n"
     ]
    }
   ],
   "source": [
    "expensive = df[df.manaValue >= 5]\n",
    "cheap = df[df.manaValue < 5]\n",
    "\n",
    "print(expensive.price.mean(), \"is the average price of cards with mana value 5 or greater\")\n",
    "print(cheap.price.mean(), \"is the average price of cards with mana value less than 5\")"
   ]
  },
  {
   "cell_type": "markdown",
   "metadata": {},
   "source": [
    "Plot each mana value and the average prices of them."
   ]
  },
  {
   "cell_type": "code",
   "execution_count": 14,
   "metadata": {},
   "outputs": [
    {
     "data": {
      "text/plain": [
       "<AxesSubplot:xlabel='manaValue', ylabel='price'>"
      ]
     },
     "execution_count": 14,
     "metadata": {},
     "output_type": "execute_result"
    },
    {
     "data": {
      "image/png": "[encoded data removed]",
      "text/plain": [
       "<Figure size 432x288 with 1 Axes>"
      ]
     },
     "metadata": {
      "needs_background": "light"
     },
     "output_type": "display_data"
    }
   ],
   "source": [
    "sns.barplot(x=df.manaValue, y = df.price)"
   ]
  },
  {
   "cell_type": "markdown",
   "metadata": {},
   "source": [
    "Plot each mana value and the average prices of them."
   ]
  },
  {
   "cell_type": "code",
   "execution_count": 19,
   "metadata": {},
   "outputs": [
    {
     "data": {
      "text/plain": [
       "<AxesSubplot:xlabel='manaValue', ylabel='price'>"
      ]
     },
     "execution_count": 19,
     "metadata": {},
     "output_type": "execute_result"
    },
    {
     "data": {
      "image/png": "[encoded data removed]",
      "text/plain": [
       "<Figure size 432x288 with 1 Axes>"
      ]
     },
     "metadata": {
      "needs_background": "light"
     },
     "output_type": "display_data"
    }
   ],
   "source": [
    "sns.barplot(x=df.manaValue, y = df.price)"
   ]
  },
  {
   "cell_type": "markdown",
   "metadata": {},
   "source": [
    "Plot each mana value that is less than 9 and the average prices of them."
   ]
  },
  {
   "cell_type": "code",
   "execution_count": 20,
   "metadata": {},
   "outputs": [
    {
     "data": {
      "text/plain": [
       "<AxesSubplot:xlabel='manaValue', ylabel='price'>"
      ]
     },
     "execution_count": 20,
     "metadata": {},
     "output_type": "execute_result"
    },
    {
     "data": {
      "image/png": "[encoded data removed]",
      "text/plain": [
       "<Figure size 432x288 with 1 Axes>"
      ]
     },
     "metadata": {
      "needs_background": "light"
     },
     "output_type": "display_data"
    }
   ],
   "source": [
    "lesseight = df[df.manaValue <= 9]\n",
    "sns.barplot(x=lesseight.manaValue, y = lesseight.price)"
   ]
  },
  {
   "cell_type": "markdown",
   "metadata": {},
   "source": [
    "Of cards with mana value of 10, what are their prices?"
   ]
  },
  {
   "cell_type": "code",
   "execution_count": 21,
   "metadata": {},
   "outputs": [
    {
     "data": {
      "text/html": [
       "<div>\n",
       "<style scoped>\n",
       "    .dataframe tbody tr th:only-of-type {\n",
       "        vertical-align: middle;\n",
       "    }\n",
       "\n",
       "    .dataframe tbody tr th {\n",
       "        vertical-align: top;\n",
       "    }\n",
       "\n",
       "    .dataframe thead th {\n",
       "        text-align: right;\n",
       "    }\n",
       "</style>\n",
       "<table border=\"1\" class=\"dataframe\">\n",
       "  <thead>\n",
       "    <tr style=\"text-align: right;\">\n",
       "      <th></th>\n",
       "      <th>Unnamed: 0</th>\n",
       "      <th>cardName</th>\n",
       "      <th>cardCmc</th>\n",
       "      <th>cardType</th>\n",
       "      <th>creatureType</th>\n",
       "      <th>powTough</th>\n",
       "      <th>set</th>\n",
       "      <th>setNum</th>\n",
       "      <th>rarity</th>\n",
       "      <th>language</th>\n",
       "      <th>cardImage</th>\n",
       "      <th>price</th>\n",
       "      <th>colorlessValue</th>\n",
       "      <th>pipValue</th>\n",
       "      <th>manaValue</th>\n",
       "      <th>color</th>\n",
       "    </tr>\n",
       "  </thead>\n",
       "  <tbody>\n",
       "    <tr>\n",
       "      <th>1118</th>\n",
       "      <td>1118</td>\n",
       "      <td>Dead Drop</td>\n",
       "      <td>9B</td>\n",
       "      <td>Sorcery</td>\n",
       "      <td>NaN</td>\n",
       "      <td>NaN</td>\n",
       "      <td>Khans of Tarkir (KTK)</td>\n",
       "      <td>67</td>\n",
       "      <td>Uncommon</td>\n",
       "      <td>English</td>\n",
       "      <td>https://c1.scryfall.com/file/scryfall-cards/la...</td>\n",
       "      <td>0.11</td>\n",
       "      <td>9</td>\n",
       "      <td>1</td>\n",
       "      <td>10</td>\n",
       "      <td>B</td>\n",
       "    </tr>\n",
       "    <tr>\n",
       "      <th>1690</th>\n",
       "      <td>1690</td>\n",
       "      <td>Desolation Twin</td>\n",
       "      <td>10</td>\n",
       "      <td>Creature</td>\n",
       "      <td>Eldrazi</td>\n",
       "      <td>10/10</td>\n",
       "      <td>Battle for Zendikar (BFZ)</td>\n",
       "      <td>6</td>\n",
       "      <td>Rare</td>\n",
       "      <td>English</td>\n",
       "      <td>https://c1.scryfall.com/file/scryfall-cards/la...</td>\n",
       "      <td>0.70</td>\n",
       "      <td>10</td>\n",
       "      <td>0</td>\n",
       "      <td>10</td>\n",
       "      <td>C</td>\n",
       "    </tr>\n",
       "    <tr>\n",
       "      <th>1699</th>\n",
       "      <td>1699</td>\n",
       "      <td>Ulamog, the Ceaseless Hunger</td>\n",
       "      <td>10</td>\n",
       "      <td>Legendary Creature</td>\n",
       "      <td>Eldrazi</td>\n",
       "      <td>10/10</td>\n",
       "      <td>Battle for Zendikar (BFZ)</td>\n",
       "      <td>15</td>\n",
       "      <td>Mythic Rare</td>\n",
       "      <td>English</td>\n",
       "      <td>https://c1.scryfall.com/file/scryfall-cards/la...</td>\n",
       "      <td>76.79</td>\n",
       "      <td>10</td>\n",
       "      <td>0</td>\n",
       "      <td>10</td>\n",
       "      <td>C</td>\n",
       "    </tr>\n",
       "    <tr>\n",
       "      <th>1961</th>\n",
       "      <td>1961</td>\n",
       "      <td>Kozilek, the Great Distortion</td>\n",
       "      <td>8CC</td>\n",
       "      <td>Legendary Creature</td>\n",
       "      <td>Eldrazi</td>\n",
       "      <td>12/12</td>\n",
       "      <td>Oath of the Gatewatch (OGW)</td>\n",
       "      <td>4</td>\n",
       "      <td>Mythic Rare</td>\n",
       "      <td>English</td>\n",
       "      <td>https://c1.scryfall.com/file/scryfall-cards/la...</td>\n",
       "      <td>23.81</td>\n",
       "      <td>8</td>\n",
       "      <td>2</td>\n",
       "      <td>10</td>\n",
       "      <td>C</td>\n",
       "    </tr>\n",
       "    <tr>\n",
       "      <th>2438</th>\n",
       "      <td>2438</td>\n",
       "      <td>Decimator of the Provinces</td>\n",
       "      <td>10</td>\n",
       "      <td>Creature</td>\n",
       "      <td>Eldrazi Boar</td>\n",
       "      <td>7/7</td>\n",
       "      <td>Eldritch Moon (EMN)</td>\n",
       "      <td>2</td>\n",
       "      <td>Mythic Rare</td>\n",
       "      <td>English</td>\n",
       "      <td>https://c1.scryfall.com/file/scryfall-cards/la...</td>\n",
       "      <td>1.69</td>\n",
       "      <td>10</td>\n",
       "      <td>0</td>\n",
       "      <td>10</td>\n",
       "      <td>C</td>\n",
       "    </tr>\n",
       "    <tr>\n",
       "      <th>4801</th>\n",
       "      <td>4801</td>\n",
       "      <td>Scuttlegator</td>\n",
       "      <td>4G/UG/U</td>\n",
       "      <td>Creature</td>\n",
       "      <td>Crab Turtle Crocodile</td>\n",
       "      <td>6/6</td>\n",
       "      <td>Ravnica Allegiance (RNA)</td>\n",
       "      <td>218</td>\n",
       "      <td>Common</td>\n",
       "      <td>English</td>\n",
       "      <td>https://c1.scryfall.com/file/scryfall-cards/la...</td>\n",
       "      <td>0.01</td>\n",
       "      <td>4</td>\n",
       "      <td>6</td>\n",
       "      <td>10</td>\n",
       "      <td>G</td>\n",
       "    </tr>\n",
       "    <tr>\n",
       "      <th>5145</th>\n",
       "      <td>5145</td>\n",
       "      <td>['Realm-Cloaked Giant', 'Cast Off']</td>\n",
       "      <td>5WW,3WW</td>\n",
       "      <td>Creature</td>\n",
       "      <td>Giant</td>\n",
       "      <td>7/7</td>\n",
       "      <td>Throne of Eldraine (ELD)</td>\n",
       "      <td>26</td>\n",
       "      <td>Mythic Rare</td>\n",
       "      <td>English</td>\n",
       "      <td>https://c1.scryfall.com/file/scryfall-cards/la...</td>\n",
       "      <td>1.02</td>\n",
       "      <td>5</td>\n",
       "      <td>5</td>\n",
       "      <td>10</td>\n",
       "      <td>W</td>\n",
       "    </tr>\n",
       "    <tr>\n",
       "      <th>5863</th>\n",
       "      <td>5863</td>\n",
       "      <td>Gyruda, Doom of Depths</td>\n",
       "      <td>4U/BU/B</td>\n",
       "      <td>Legendary Creature</td>\n",
       "      <td>Demon Kraken</td>\n",
       "      <td>6/6</td>\n",
       "      <td>Ikoria: Lair of Behemoths (IKO)</td>\n",
       "      <td>221</td>\n",
       "      <td>Rare</td>\n",
       "      <td>English</td>\n",
       "      <td>https://c1.scryfall.com/file/scryfall-cards/la...</td>\n",
       "      <td>0.35</td>\n",
       "      <td>4</td>\n",
       "      <td>6</td>\n",
       "      <td>10</td>\n",
       "      <td>U</td>\n",
       "    </tr>\n",
       "  </tbody>\n",
       "</table>\n",
       "</div>"
      ],
      "text/plain": [
       "      Unnamed: 0                             cardName  cardCmc  \\\n",
       "1118        1118                            Dead Drop       9B   \n",
       "1690        1690                      Desolation Twin       10   \n",
       "1699        1699         Ulamog, the Ceaseless Hunger       10   \n",
       "1961        1961        Kozilek, the Great Distortion      8CC   \n",
       "2438        2438           Decimator of the Provinces       10   \n",
       "4801        4801                         Scuttlegator  4G/UG/U   \n",
       "5145        5145  ['Realm-Cloaked Giant', 'Cast Off']  5WW,3WW   \n",
       "5863        5863               Gyruda, Doom of Depths  4U/BU/B   \n",
       "\n",
       "                 cardType            creatureType powTough  \\\n",
       "1118              Sorcery                     NaN      NaN   \n",
       "1690            Creature                  Eldrazi    10/10   \n",
       "1699  Legendary Creature                  Eldrazi    10/10   \n",
       "1961  Legendary Creature                  Eldrazi    12/12   \n",
       "2438            Creature             Eldrazi Boar      7/7   \n",
       "4801            Creature    Crab Turtle Crocodile      6/6   \n",
       "5145            Creature                    Giant      7/7   \n",
       "5863  Legendary Creature             Demon Kraken      6/6   \n",
       "\n",
       "                                  set setNum         rarity  language  \\\n",
       "1118            Khans of Tarkir (KTK)    67       Uncommon    English   \n",
       "1690        Battle for Zendikar (BFZ)     6           Rare    English   \n",
       "1699        Battle for Zendikar (BFZ)    15    Mythic Rare    English   \n",
       "1961      Oath of the Gatewatch (OGW)     4    Mythic Rare    English   \n",
       "2438              Eldritch Moon (EMN)     2    Mythic Rare    English   \n",
       "4801         Ravnica Allegiance (RNA)   218         Common    English   \n",
       "5145         Throne of Eldraine (ELD)    26    Mythic Rare    English   \n",
       "5863  Ikoria: Lair of Behemoths (IKO)   221           Rare    English   \n",
       "\n",
       "                                              cardImage  price  \\\n",
       "1118  https://c1.scryfall.com/file/scryfall-cards/la...   0.11   \n",
       "1690  https://c1.scryfall.com/file/scryfall-cards/la...   0.70   \n",
       "1699  https://c1.scryfall.com/file/scryfall-cards/la...  76.79   \n",
       "1961  https://c1.scryfall.com/file/scryfall-cards/la...  23.81   \n",
       "2438  https://c1.scryfall.com/file/scryfall-cards/la...   1.69   \n",
       "4801  https://c1.scryfall.com/file/scryfall-cards/la...   0.01   \n",
       "5145  https://c1.scryfall.com/file/scryfall-cards/la...   1.02   \n",
       "5863  https://c1.scryfall.com/file/scryfall-cards/la...   0.35   \n",
       "\n",
       "      colorlessValue  pipValue  manaValue color  \n",
       "1118               9         1         10     B  \n",
       "1690              10         0         10     C  \n",
       "1699              10         0         10     C  \n",
       "1961               8         2         10     C  \n",
       "2438              10         0         10     C  \n",
       "4801               4         6         10     G  \n",
       "5145               5         5         10     W  \n",
       "5863               4         6         10     U  "
      ]
     },
     "execution_count": 21,
     "metadata": {},
     "output_type": "execute_result"
    }
   ],
   "source": [
    "ten = df[df.manaValue == 10]\n",
    "ten"
   ]
  },
  {
   "cell_type": "markdown",
   "metadata": {},
   "source": [
    "Show the prices of each rarity."
   ]
  },
  {
   "cell_type": "code",
   "execution_count": 16,
   "metadata": {},
   "outputs": [
    {
     "data": {
      "text/plain": [
       "<AxesSubplot:xlabel='rarity', ylabel='price'>"
      ]
     },
     "execution_count": 16,
     "metadata": {},
     "output_type": "execute_result"
    },
    {
     "data": {
      "image/png": "[encoded data removed]",
      "text/plain": [
       "<Figure size 432x288 with 1 Axes>"
      ]
     },
     "metadata": {
      "needs_background": "light"
     },
     "output_type": "display_data"
    }
   ],
   "source": [
    "sns.barplot(x=df.rarity, y = df.price)"
   ]
  },
  {
   "cell_type": "markdown",
   "metadata": {},
   "source": [
    "Show how prices of cards have changed over time."
   ]
  },
  {
   "cell_type": "code",
   "execution_count": 17,
   "metadata": {},
   "outputs": [
    {
     "data": {
      "text/plain": [
       "<AxesSubplot:xlabel='set', ylabel='price'>"
      ]
     },
     "execution_count": 17,
     "metadata": {},
     "output_type": "execute_result"
    },
    {
     "data": {
      "image/png": "[encoded data removed]",
      "text/plain": [
       "<Figure size 432x288 with 1 Axes>"
      ]
     },
     "metadata": {
      "needs_background": "light"
     },
     "output_type": "display_data"
    }
   ],
   "source": [
    "money = df[df.price >= 10]\n",
    "sns.lineplot(x=money.set, y = money.price)"
   ]
  },
  {
   "cell_type": "markdown",
   "metadata": {},
   "source": [
    "What is the highest priced card? How much is it? What set is it from?"
   ]
  },
  {
   "cell_type": "code",
   "execution_count": 18,
   "metadata": {},
   "outputs": [
    {
     "data": {
      "text/html": [
       "<div>\n",
       "<style scoped>\n",
       "    .dataframe tbody tr th:only-of-type {\n",
       "        vertical-align: middle;\n",
       "    }\n",
       "\n",
       "    .dataframe tbody tr th {\n",
       "        vertical-align: top;\n",
       "    }\n",
       "\n",
       "    .dataframe thead th {\n",
       "        text-align: right;\n",
       "    }\n",
       "</style>\n",
       "<table border=\"1\" class=\"dataframe\">\n",
       "  <thead>\n",
       "    <tr style=\"text-align: right;\">\n",
       "      <th></th>\n",
       "      <th>Unnamed: 0</th>\n",
       "      <th>cardName</th>\n",
       "      <th>cardCmc</th>\n",
       "      <th>cardType</th>\n",
       "      <th>creatureType</th>\n",
       "      <th>powTough</th>\n",
       "      <th>set</th>\n",
       "      <th>setNum</th>\n",
       "      <th>rarity</th>\n",
       "      <th>language</th>\n",
       "      <th>cardImage</th>\n",
       "      <th>price</th>\n",
       "      <th>colorlessValue</th>\n",
       "      <th>pipValue</th>\n",
       "      <th>manaValue</th>\n",
       "      <th>color</th>\n",
       "    </tr>\n",
       "  </thead>\n",
       "  <tbody>\n",
       "    <tr>\n",
       "      <th>1699</th>\n",
       "      <td>1699</td>\n",
       "      <td>Ulamog, the Ceaseless Hunger</td>\n",
       "      <td>10</td>\n",
       "      <td>Legendary Creature</td>\n",
       "      <td>Eldrazi</td>\n",
       "      <td>10/10</td>\n",
       "      <td>Battle for Zendikar (BFZ)</td>\n",
       "      <td>15</td>\n",
       "      <td>Mythic Rare</td>\n",
       "      <td>English</td>\n",
       "      <td>https://c1.scryfall.com/file/scryfall-cards/la...</td>\n",
       "      <td>76.79</td>\n",
       "      <td>10</td>\n",
       "      <td>0</td>\n",
       "      <td>10</td>\n",
       "      <td>C</td>\n",
       "    </tr>\n",
       "  </tbody>\n",
       "</table>\n",
       "</div>"
      ],
      "text/plain": [
       "      Unnamed: 0                      cardName cardCmc             cardType  \\\n",
       "1699        1699  Ulamog, the Ceaseless Hunger      10  Legendary Creature    \n",
       "\n",
       "     creatureType powTough                        set setNum         rarity  \\\n",
       "1699      Eldrazi    10/10  Battle for Zendikar (BFZ)    15    Mythic Rare    \n",
       "\n",
       "      language                                          cardImage  price  \\\n",
       "1699   English  https://c1.scryfall.com/file/scryfall-cards/la...  76.79   \n",
       "\n",
       "      colorlessValue  pipValue  manaValue color  \n",
       "1699              10         0         10     C  "
      ]
     },
     "execution_count": 18,
     "metadata": {},
     "output_type": "execute_result"
    }
   ],
   "source": [
    "highest = df[df.price == df.price.max()]\n",
    "highest"
   ]
  }
 ],
 "metadata": {
  "kernelspec": {
   "display_name": "Python 3.9.12 ('base')",
   "language": "python",
   "name": "python3"
  },
  "language_info": {
   "codemirror_mode": {
    "name": "ipython",
    "version": 3
   },
   "file_extension": ".py",
   "mimetype": "text/x-python",
   "name": "python",
   "nbconvert_exporter": "python",
   "pygments_lexer": "ipython3",
   "version": "3.9.12"
  },
  "orig_nbformat": 4,
  "vscode": {
   "interpreter": {
    "hash": "b3b8246b3ad354a5f213208ce6023f082c1e8fc173d2c9adba35c304177e7570"
   }
  }
 },
 "nbformat": 4,
 "nbformat_minor": 2
}
